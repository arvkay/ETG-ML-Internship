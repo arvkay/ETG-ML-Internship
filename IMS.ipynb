{
 "cells": [
  {
   "cell_type": "code",
   "execution_count": 6,
   "id": "2e7d211b",
   "metadata": {},
   "outputs": [
    {
     "data": {
      "text/plain": [
       "{'1001': {'Product name': 'Lays',\n",
       "  'Available quantity': 15,\n",
       "  'Price': 35,\n",
       "  'Inventory date': '06/09/21 21:02:22',\n",
       "  'Discount Available': 'N',\n",
       "  'Discount Amount': 0},\n",
       " '1002': {'Product name': 'Kurkure',\n",
       "  'Available quantity': 10,\n",
       "  'Price': 20,\n",
       "  'Inventory date': '06/09/21 21:02:22',\n",
       "  'Discount Available': 'N',\n",
       "  'Discount Amount': 0},\n",
       " '1003': {'Product Name': 'Pepsi',\n",
       "  'Available quantity': 20,\n",
       "  'Price': 40.0,\n",
       "  'Inventory date': '06/09/21 21:30:12',\n",
       "  'Discount Available': 'y',\n",
       "  'Discount Amount': 35.0},\n",
       " '1004': {'Product Name': 'Coca-Cola',\n",
       "  'Available quantity': 25,\n",
       "  'Price': 40.0,\n",
       "  'Inventory date': '06/09/21 21:31:45',\n",
       "  'Discount Available': 'y',\n",
       "  'Discount Amount': 38.0},\n",
       " '1005': {'Product Name': 'Oreo',\n",
       "  'Available quantity': 40,\n",
       "  'Price': 30.0,\n",
       "  'Inventory date': '06/09/21 21:32:15',\n",
       "  'Discount Available': 'n',\n",
       "  'Discount Amount': 0.0}}"
      ]
     },
     "execution_count": 6,
     "metadata": {},
     "output_type": "execute_result"
    }
   ],
   "source": [
    "from datetime import datetime\n",
    "import json\n",
    "\n",
    "file_handler = open(\"stocks.json\",'r')\n",
    "reader = file_handler.read()\n",
    "file_handler.close()\n",
    "\n",
    "items = json.loads(reader)\n",
    "\n",
    "items"
   ]
  },
  {
   "cell_type": "code",
   "execution_count": 5,
   "id": "0b320fc1",
   "metadata": {},
   "outputs": [
    {
     "name": "stdout",
     "output_type": "stream",
     "text": [
      "Do you want to add new products to the inventory? (Y/N)Y\n",
      "Enter the name of the product: Coca-Cola\n",
      "Enter the price of the product: 40\n",
      "Enter the quantity of the product: 25\n",
      "Is this product available at discounted price? (Y/N): y\n",
      "What is the discounted price? (Press 0 if no discount): 38\n",
      "Do you want to add new products to the inventory? (Y/N)y\n",
      "Enter the name of the product: Oreo\n",
      "Enter the price of the product: 30\n",
      "Enter the quantity of the product: 40\n",
      "Is this product available at discounted price? (Y/N): n\n",
      "What is the discounted price? (Press 0 if no discount): 0\n",
      "Do you want to add new products to the inventory? (Y/N)n\n"
     ]
    }
   ],
   "source": [
    "add_new_product = input(\"Do you want to add new products to the inventory? (Y/N)\")\n",
    "while (add_new_product == 'Y' or add_new_product == 'y'):\n",
    "    product_name = input(\"Enter the name of the product: \")\n",
    "    product_price = float(input(\"Enter the price of the product: \"))\n",
    "    product_quantity = int(input(\"Enter the quantity of the product: \"))\n",
    "    product_date = datetime.now().strftime(\"%d/%m/%y %H:%M:%S\")\n",
    "    product_discount = input(\"Is this product available at discounted price? (Y/N): \")\n",
    "    product_discount_amt = float(input(\"What is the discounted price? (Press 0 if no discount): \"))\n",
    "    \n",
    "    items[str(max(int(key) for key in items) + 1)] = {\"Product Name\": product_name, \"Available quantity\":product_quantity, \n",
    "                                                      \"Price\":product_price, \"Inventory date\": product_date, \n",
    "                                                      \"Discount Available\": product_discount, \n",
    "                                                      \"Discount Amount\":product_discount_amt}\n",
    "    \n",
    "    file_handler = open(\"stocks.json\",'w')\n",
    "    file_handler.write(json.dumps(items))\n",
    "    file_handler.close()\n",
    "    \n",
    "    add_new_product = input(\"Do you want to add new products to the inventory? (Y/N)\")"
   ]
  },
  {
   "cell_type": "code",
   "execution_count": null,
   "id": "ab319260",
   "metadata": {},
   "outputs": [],
   "source": []
  }
 ],
 "metadata": {
  "kernelspec": {
   "display_name": "Python 3",
   "language": "python",
   "name": "python3"
  },
  "language_info": {
   "codemirror_mode": {
    "name": "ipython",
    "version": 3
   },
   "file_extension": ".py",
   "mimetype": "text/x-python",
   "name": "python",
   "nbconvert_exporter": "python",
   "pygments_lexer": "ipython3",
   "version": "3.8.8"
  }
 },
 "nbformat": 4,
 "nbformat_minor": 5
}
